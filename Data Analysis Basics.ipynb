{
 "cells": [
  {
   "cell_type": "markdown",
   "metadata": {},
   "source": [
    "# Basics of Scientific Data Analysis"
   ]
  },
  {
   "cell_type": "markdown",
   "metadata": {},
   "source": [
    "## Data Types and Measurement Scales"
   ]
  },
  {
   "cell_type": "markdown",
   "metadata": {},
   "source": [
    "At the foundation of all statistical tests and research, design lies data and measurement. Within statistics, all data collected falls within two major catagories: __Quantitative__ and __Qualitative__.\n",
    "\n",
    "Quantitative data is of the numerical type (e.g speed, weight, distance, velocity, etc). Within this catagory there are __Discrete__ and __Continuous__ data types:\n",
    "\n",
    "* __Discrete:__ Integers usually representing a count of something (e.g. number of fails, number of attempts, number of students, etc).\n",
    "* __Continuous:__ Real numbers usually on a predefined range (e.g weight, temperature). Within continuous variables there are:\n",
    "    * __Interval:__ Scales that lack a \"*true zero*\" , such as temperature, and therefore cannot be converted to a ratio.\n",
    "    * __Ratio Scale:__ Scales that indicate order, \n",
    "    \n",
    "Qualitative data contains catagorical data of the following types:\n",
    "* __Nominal Scale:__ Simple, labeled data (e.g location, hair color)\n",
    "    * __dichotomous:__ A nomial data type that indicates a binary classification (e.g male/female, yes/no).\n",
    "    \n",
    "* __Ordinal Scale:__ Ordered scale data (e.g [Likert Scale](https://en.wikipedia.org/wiki/Likert_scale))"
   ]
  },
  {
   "cell_type": "markdown",
   "metadata": {},
   "source": [
    "## Descriptive Statistics"
   ]
  },
  {
   "cell_type": "markdown",
   "metadata": {},
   "source": [
    "### Measures of Central Tendency "
   ]
  },
  {
   "cell_type": "markdown",
   "metadata": {},
   "source": [
    "##### Measures of Central Tendency"
   ]
  },
  {
   "cell_type": "markdown",
   "metadata": {},
   "source": [
    "* Arithmetic Mean : $ x = \\sum_{i=1}^nx_i $\n",
    "* Median: Middle Value\n",
    "* Mode: Most commonly occuring value\n",
    "* Midrange: The midpoint between the largest and smallest values in a data range, $ x_{min} + \\frac{x_{max} - x_{min}}{2}$.\n",
    "* [Geometric Mean](https://medium.com/@JLMC/understanding-three-simple-statistics-for-data-visualizations-2619dbb3677a): $ x = \\sqrt{\\Pi_{i=1}^nx_i} $\n",
    "* Harmonic Mean: $x = \\frac{1}{\\sum_{i=1}^nx_i}$"
   ]
  },
  {
   "cell_type": "markdown",
   "metadata": {},
   "source": [
    "##### Measures of Dispersion"
   ]
  },
  {
   "cell_type": "markdown",
   "metadata": {},
   "source": [
    "* Range: The difference between the largest and smallest values in a given data set, $x_{max} - x_{min}$.\n",
    "* Residual Sum of Squares (RSS): "
   ]
  },
  {
   "cell_type": "markdown",
   "metadata": {},
   "source": [
    "### Nominal Data"
   ]
  },
  {
   "cell_type": "markdown",
   "metadata": {},
   "source": []
  },
  {
   "cell_type": "markdown",
   "metadata": {},
   "source": [
    "### Ordinal Data"
   ]
  },
  {
   "cell_type": "markdown",
   "metadata": {},
   "source": []
  },
  {
   "cell_type": "markdown",
   "metadata": {},
   "source": [
    "## Useful Links"
   ]
  },
  {
   "cell_type": "markdown",
   "metadata": {},
   "source": [
    "* [Data Types in Statistics](https://www.mymarketresearchmethods.com/data-types-in-statistics/)\n",
    "\n",
    "* [Types of Data & Measurement Scales: Nominal, Ordinal, Interval and Ratio](https://www.mymarketresearchmethods.com/types-of-data-nominal-ordinal-interval-ratio/)"
   ]
  }
 ],
 "metadata": {
  "kernelspec": {
   "display_name": "Python 3",
   "language": "python",
   "name": "python3"
  },
  "language_info": {
   "codemirror_mode": {
    "name": "ipython",
    "version": 3
   },
   "file_extension": ".py",
   "mimetype": "text/x-python",
   "name": "python",
   "nbconvert_exporter": "python",
   "pygments_lexer": "ipython3",
   "version": "3.8.0"
  }
 },
 "nbformat": 4,
 "nbformat_minor": 2
}
