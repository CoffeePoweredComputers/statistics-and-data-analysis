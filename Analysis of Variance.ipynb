{
 "cells": [
  {
   "cell_type": "markdown",
   "metadata": {},
   "source": [
    "# ANOVA, ANCOVA, MANOVA, & MANCOVA"
   ]
  },
  {
   "cell_type": "code",
   "execution_count": 8,
   "metadata": {},
   "outputs": [],
   "source": [
    "# Uncomment this line upon first running the notebook if these packages \n",
    "# are not installed locally.\n",
    "#!pip install --user numpy pandas scipy statsmodels\n",
    "\n",
    "import numpy as np\n",
    "import pandas as pd\n",
    "import scipy\n",
    "\n",
    "import statsmodels\n",
    "import statsmodels.api as sm\n",
    "from statsmodels.formula.api import ols"
   ]
  },
  {
   "cell_type": "markdown",
   "metadata": {},
   "source": [
    "The following vocabulary is necessary to understand the analysis of variance and analysis of covariance tests.\n",
    "\n",
    "* __F Values:__ Measures that indicate if there is a significant difference between the means of two test groups. This incorporates __F Critical Value__ (or F Statistic) and a __F-value__. If the F-value $\\leq$ F-Critical-Value then there may be enough evidence to reject the null hypothesis.\n",
    "    * __F Critical Value:__ A value, taken from an [F-distribution](http://www.socr.ucla.edu/Applets.dir/F_Table.html) that is based on a given $\\alpha$.\n",
    "    * __F Value:__ The value calculated from your values, $F=\\frac{\\text{explained variance}}{\\text{unexplained variance}}$\n",
    "    \n",
    "* __p-value:__ A value calculated based on the F statistic that indicates the probability of an event is random. The lower the probability of an event is random, the greater the chance you should reject your null hypothesis. \n",
    "\n",
    "* __Alpha Level:__ The percentage a researcher wishes their results to be accurate too. For instance, if a researcher wished to be 95\\% sure of their results then they would set $\\alpha = (100\\% - 95\\%) = 5\\%$ or 0.05. If the p-value is below the alpha level then there is strong evidence that the null hypothesis should be rejected. \n",
    "\n",
    "* __Null Hypothesis:__ The hypothesis that there is no statistically significant difference in amoungst test groups. \n",
    "\n",
    "* __Alternate Hypothesis:__ The hypothesis that there is a statistically significant difference in test groups.\n",
    "\n",
    "* __Type 1 Error:__ False positive, rejection of a true null hypothesis.\n",
    "\n",
    "* __Type 2 Error:__ False negative, rejection of a true alternative hypothesis.\n",
    "\n",
    "* __Residuals:__ The difference between a dependent variables observed value and its expected value, $r = x_{observed} - x_{expected}$."
   ]
  },
  {
   "cell_type": "markdown",
   "metadata": {},
   "source": [
    "## Analysis of Variance (ANOVA)"
   ]
  },
  {
   "cell_type": "markdown",
   "metadata": {},
   "source": [
    "ANOVA refers to a broad range of tests used to determine the variance that exists between group means. It can be seen as a generalization of the t-test when used to compare three or more group means. It relies on the following assumptions:\n",
    "* __Normally Distribution of Residuals:__ The assumption that the residuals follow a normal distribution.\n",
    "* __Homosedacisity (Homogeneity amoungst the residuals):__ This is just a fancy way of saying that all residuals are of approximatly the same magnitude. \n",
    "* __Independence of Observations:__ The error of each random variable is independent of one and other.\n",
    "\n",
    "The null and alternate hypothesis for ANOVA relate to the equality of each sample mean and are as follows:\n",
    "* __Null Hypotheses:__ The mean of each sample is equal, $\\mu_1=\\mu_2=\\mu_3$.\n",
    "* __Alternatative Hypotheses:__ The mean of one or more samples is not equal.\n"
   ]
  },
  {
   "cell_type": "markdown",
   "metadata": {},
   "source": [
    "### Theory"
   ]
  },
  {
   "cell_type": "markdown",
   "metadata": {},
   "source": [
    "\n",
    "\n",
    "It is built upon assumption set out by [Eve's Law](https://r.amherst.edu/apps/nhorton/Adam-Eve/):\n",
    "\n",
    "$$Var(T)=E[X]2Var(N)+E[N]Var(X)$$\n",
    "This law "
   ]
  },
  {
   "cell_type": "markdown",
   "metadata": {},
   "source": [
    "### Application"
   ]
  },
  {
   "cell_type": "markdown",
   "metadata": {},
   "source": [
    "There are two common types of ANOVA: one-way and two-way. The former investigates how "
   ]
  },
  {
   "cell_type": "markdown",
   "metadata": {},
   "source": [
    "There are additionally three types of ANOVA test:\n",
    "* __Type-1 ANOVA:__\n",
    "* __Type-2 ANOVA:__\n",
    "* __Type-3 ANOVA:__"
   ]
  },
  {
   "cell_type": "markdown",
   "metadata": {},
   "source": [
    "### Python"
   ]
  },
  {
   "cell_type": "markdown",
   "metadata": {},
   "source": [
    "The following is an example of conducting ANOVA within the python programming language. The Duncan data set contains data on:\n",
    "* Job Position\n",
    "* Income\n",
    "* Level of Education\n",
    "* Social Prestige \n",
    "For this test we will be looking at the relationship between *Level of Education* combinded with *Social Prestige* and *Income*. For this test our "
   ]
  },
  {
   "cell_type": "code",
   "execution_count": 22,
   "metadata": {},
   "outputs": [
    {
     "name": "stdout",
     "output_type": "stream",
     "text": [
      "ANOVA Type 1\n",
      "             df        sum_sq       mean_sq          F        PR(>F)\n",
      "education   1.0  13790.229826  13790.229826  74.064913  8.116233e-11\n",
      "prestige    1.0   4660.942771   4660.942771  25.033109  1.053184e-05\n",
      "Residual   42.0   7820.027404    186.191129        NaN           NaN\n",
      "\n",
      "ANOVA Type 2\n",
      "                sum_sq    df          F    PR(>F)\n",
      "education    11.124659   1.0   0.059749  0.808084\n",
      "prestige   4660.942771   1.0  25.033109  0.000011\n",
      "Residual   7820.027404  42.0        NaN       NaN\n",
      "\n",
      "ANOVA Type 3\n",
      "                sum_sq    df          F    PR(>F)\n",
      "Intercept  1167.606015   1.0   6.271008  0.016243\n",
      "education    11.124659   1.0   0.059749  0.808084\n",
      "prestige   4660.942771   1.0  25.033109  0.000011\n",
      "Residual   7820.027404  42.0        NaN       NaN\n",
      "\n"
     ]
    }
   ],
   "source": [
    "#First we import the dataset and extract the data frame\n",
    "duncan_dataset = sm.datasets.get_rdataset(\"Duncan\", \"carData\").data\n",
    "\n",
    "#next we construct our linear model with:\n",
    "#    - Depended Variable: income\n",
    "#    - Independent Variable: education + prestige\n",
    "duncan_dataset_lm = ols(\n",
    "    \"income ~ education + prestige\", \n",
    "    data=duncan_dataset).fit()\n",
    "\n",
    "#Now that the linear model has been constructed we can can extract\n",
    "#the anova results from it\n",
    "for anova_type in range(1,4):\n",
    "    anova_results = sm.stats.anova_lm(duncan_dataset_lm, typ=anova_type)\n",
    "    print(\"ANOVA Type %s\" % anova_type)\n",
    "    print(anova_results)\n",
    "    print()\n",
    "\n"
   ]
  },
  {
   "cell_type": "code",
   "execution_count": null,
   "metadata": {},
   "outputs": [],
   "source": []
  },
  {
   "cell_type": "markdown",
   "metadata": {},
   "source": [
    "## Analysis of Covariance (ANCOVA)"
   ]
  },
  {
   "cell_type": "markdown",
   "metadata": {},
   "source": [
    "## Multivariate Analysis of Variance (MANOVA)"
   ]
  },
  {
   "cell_type": "markdown",
   "metadata": {},
   "source": [
    "## Multivariate Analysis of Covariance (MANCOVA)"
   ]
  },
  {
   "cell_type": "markdown",
   "metadata": {},
   "source": [
    "# Sources"
   ]
  },
  {
   "cell_type": "markdown",
   "metadata": {},
   "source": [
    "* [Stat Soup](http://www.statsmakemecry.com/smmctheblog/stats-soup-anova-ancova-manova-mancova)\n",
    "* [Law of Total Variance](https://en.wikipedia.org/wiki/Law_of_total_variance)\n",
    "* [Limit Theorems and Conditional Expectation](https://bookdown.org/probability/beta/limit-theorems-and-conditional-expectation.html)\n",
    "* [ANOVA Python](https://plot.ly/python/v3/anova/)"
   ]
  }
 ],
 "metadata": {
  "kernelspec": {
   "display_name": "Python 3",
   "language": "python",
   "name": "python3"
  },
  "language_info": {
   "codemirror_mode": {
    "name": "ipython",
    "version": 3
   },
   "file_extension": ".py",
   "mimetype": "text/x-python",
   "name": "python",
   "nbconvert_exporter": "python",
   "pygments_lexer": "ipython3",
   "version": "3.8.0"
  }
 },
 "nbformat": 4,
 "nbformat_minor": 2
}
